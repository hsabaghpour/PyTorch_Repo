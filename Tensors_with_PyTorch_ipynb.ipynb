{
  "nbformat": 4,
  "nbformat_minor": 0,
  "metadata": {
    "colab": {
      "provenance": [],
      "gpuType": "T4",
      "authorship_tag": "ABX9TyNt8VU/UnepTCaSFuyLpJTI",
      "include_colab_link": true
    },
    "kernelspec": {
      "name": "python3",
      "display_name": "Python 3"
    },
    "language_info": {
      "name": "python"
    },
    "accelerator": "GPU"
  },
  "cells": [
    {
      "cell_type": "markdown",
      "metadata": {
        "id": "view-in-github",
        "colab_type": "text"
      },
      "source": [
        "<a href=\"https://colab.research.google.com/github/hsabaghpour/pytorch-training-playground/blob/main/Tensors_with_PyTorch_ipynb.ipynb\" target=\"_parent\"><img src=\"https://colab.research.google.com/assets/colab-badge.svg\" alt=\"Open In Colab\"/></a>"
      ]
    },
    {
      "cell_type": "markdown",
      "source": [
        "\n",
        "##**TENSORS**\n",
        "\n",
        "Alright, let's spice it up with some tech talk:\n",
        "\n",
        "Imagine **tensors** are the **superheroes** of the math world. You've got:\n",
        "\n",
        "**Scalars**: The lone wolves. They're just single numbers, like the quiet guy at a party (**0-dimensional**).\n",
        "\n",
        "**Vectors**: Think of these as your party guests lined up in a row, all in one dimension, having a chat (**1-dimensional**).\n",
        "\n",
        "**Matrices**: Now it's a dinner party! You've got rows and columns of guests interacting with each other (**2-dimensional**).\n",
        "\n",
        "**Higher-dimensional Tensors**: This is where things get wild. Picture a massive festival with layers upon layers of interactions (**3D, 4D, and beyond**).\n",
        "\n",
        "In the realm of **deep learning**, tensors are the cool, flexible friends who can shape-shift into different forms and dimensions, making them the perfect data handlers. Whether it's processing images, text, or any other data, these guys are the real MVPs, powering your favorite AI and machine learning models.\n",
        "\n",
        "And guess what? They often leverage hardware acceleration like **GPUs** for efficient computation, making them super fast and efficient!\n",
        "\n",
        "So next time you hear **\"tensors**,\" just think of them as the versatile, multi-talented party planners of the data world, making sure everything runs smoothly and efficiently, often with a little help from their speedy **GPU** buddies!\n"
      ],
      "metadata": {
        "id": "3ATq8xJKA9Dh"
      }
    },
    {
      "cell_type": "code",
      "source": [
        "#!pip install torch"
      ],
      "metadata": {
        "id": "mJWlhVOFCIdl"
      },
      "execution_count": 1,
      "outputs": []
    },
    {
      "cell_type": "markdown",
      "source": [
        "\n",
        "In **PyTorch**, **tensors** (represented as **torch.Tensor**) are the fundamental data structures, much like arrays in NumPy but with added capabilities.\n",
        "\n",
        "The default dtype for a tensor in PyTorch is **float32**, which is optimized for deep learning tasks.\n",
        "\n",
        "Unlike NumPy arrays, torch.**Tensor** is more suitable for **deep learning** because it supports:\n",
        "\n",
        "##GPU acceleration\n",
        "##Automatic differentiation\n",
        "##Dynamic computation graphs\n",
        "These features make torch.Tensor ideal for creating and training complex neural networks efficiently."
      ],
      "metadata": {
        "id": "ZW-EeX-OMWaj"
      }
    },
    {
      "cell_type": "code",
      "execution_count": 5,
      "metadata": {
        "id": "p0qOti15A7Za"
      },
      "outputs": [],
      "source": [
        "import torch\n",
        "import numpy as np\n"
      ]
    },
    {
      "cell_type": "markdown",
      "source": [
        "#**LISTS**"
      ],
      "metadata": {
        "id": "4kXQjZvKEIKl"
      }
    },
    {
      "cell_type": "code",
      "source": [
        "my_list = [1, 2, 3,4,5,6,7,8,9,10]\n",
        "my_list"
      ],
      "metadata": {
        "colab": {
          "base_uri": "https://localhost:8080/"
        },
        "id": "46bg23lmEHEC",
        "outputId": "f997e663-f246-461b-9f32-142c6239d84b"
      },
      "execution_count": 2,
      "outputs": [
        {
          "output_type": "execute_result",
          "data": {
            "text/plain": [
              "[1, 2, 3, 4, 5, 6, 7, 8, 9, 10]"
            ]
          },
          "metadata": {},
          "execution_count": 2
        }
      ]
    },
    {
      "cell_type": "code",
      "source": [
        "my_multiDim_list = [[1,2,3],[4,5,6],[7,8,9]]\n",
        "my_multiDim_list"
      ],
      "metadata": {
        "colab": {
          "base_uri": "https://localhost:8080/"
        },
        "id": "Hir8Kq0_NlEp",
        "outputId": "f0458101-a4d9-4205-cad0-f9dd020d7ec5"
      },
      "execution_count": 3,
      "outputs": [
        {
          "output_type": "execute_result",
          "data": {
            "text/plain": [
              "[[1, 2, 3], [4, 5, 6], [7, 8, 9]]"
            ]
          },
          "metadata": {},
          "execution_count": 3
        }
      ]
    },
    {
      "cell_type": "markdown",
      "source": [
        "#**NUMPY ARRAYS**"
      ],
      "metadata": {
        "id": "nFOerDleNuUm"
      }
    },
    {
      "cell_type": "code",
      "source": [
        "np1 = np.random.randint(10, size=(3,5))\n",
        "np1"
      ],
      "metadata": {
        "colab": {
          "base_uri": "https://localhost:8080/"
        },
        "id": "Low01Fx4N0uw",
        "outputId": "8d9fa661-30ee-475f-dd85-d417d92e4e36"
      },
      "execution_count": 6,
      "outputs": [
        {
          "output_type": "execute_result",
          "data": {
            "text/plain": [
              "array([[0, 1, 9, 4, 0],\n",
              "       [8, 6, 6, 4, 6],\n",
              "       [2, 2, 8, 3, 5]])"
            ]
          },
          "metadata": {},
          "execution_count": 6
        }
      ]
    }
  ]
}