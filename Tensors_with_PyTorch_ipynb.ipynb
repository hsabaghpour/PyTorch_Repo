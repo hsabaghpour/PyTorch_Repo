{
  "nbformat": 4,
  "nbformat_minor": 0,
  "metadata": {
    "colab": {
      "provenance": [],
      "gpuType": "T4",
      "authorship_tag": "ABX9TyPSwQ/ZI0qPf9rQhcCsvqPF",
      "include_colab_link": true
    },
    "kernelspec": {
      "name": "python3",
      "display_name": "Python 3"
    },
    "language_info": {
      "name": "python"
    },
    "accelerator": "GPU"
  },
  "cells": [
    {
      "cell_type": "markdown",
      "metadata": {
        "id": "view-in-github",
        "colab_type": "text"
      },
      "source": [
        "<a href=\"https://colab.research.google.com/github/hsabaghpour/PyTorch_Repo/blob/main/Tensors_with_PyTorch_ipynb.ipynb\" target=\"_parent\"><img src=\"https://colab.research.google.com/assets/colab-badge.svg\" alt=\"Open In Colab\"/></a>"
      ]
    },
    {
      "cell_type": "markdown",
      "source": [
        "\n",
        "##**TENSORS**\n",
        "\n",
        "Alright, let's spice it up with some tech talk:\n",
        "\n",
        "Imagine **tensors** are the **superheroes** of the math world. You've got:\n",
        "\n",
        "**Scalars**: The lone wolves. They're just single numbers, like the quiet guy at a party (**0-dimensional**).\n",
        "\n",
        "**Vectors**: Think of these as your party guests lined up in a row, all in one dimension, having a chat (**1-dimensional**).\n",
        "\n",
        "**Matrices**: Now it's a dinner party! You've got rows and columns of guests interacting with each other (**2-dimensional**).\n",
        "\n",
        "**Higher-dimensional Tensors**: This is where things get wild. Picture a massive festival with layers upon layers of interactions (**3D, 4D, and beyond**).\n",
        "\n",
        "In the realm of **deep learning**, tensors are the cool, flexible friends who can shape-shift into different forms and dimensions, making them the perfect data handlers. Whether it's processing images, text, or any other data, these guys are the real MVPs, powering your favorite AI and machine learning models.\n",
        "\n",
        "And guess what? They often leverage hardware acceleration like **GPUs** for efficient computation, making them super fast and efficient!\n",
        "\n",
        "So next time you hear **\"tensors**,\" just think of them as the versatile, multi-talented party planners of the data world, making sure everything runs smoothly and efficiently, often with a little help from their speedy **GPU** buddies!\n"
      ],
      "metadata": {
        "id": "3ATq8xJKA9Dh"
      }
    },
    {
      "cell_type": "code",
      "source": [
        "#!pip install torch"
      ],
      "metadata": {
        "id": "mJWlhVOFCIdl"
      },
      "execution_count": 1,
      "outputs": []
    },
    {
      "cell_type": "code",
      "execution_count": null,
      "metadata": {
        "id": "p0qOti15A7Za"
      },
      "outputs": [],
      "source": [
        "import torch\n",
        "import numpy as np\n"
      ]
    },
    {
      "cell_type": "markdown",
      "source": [],
      "metadata": {
        "id": "4kXQjZvKEIKl"
      }
    },
    {
      "cell_type": "code",
      "source": [],
      "metadata": {
        "id": "46bg23lmEHEC"
      },
      "execution_count": null,
      "outputs": []
    }
  ]
}