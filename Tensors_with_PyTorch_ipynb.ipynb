{
  "nbformat": 4,
  "nbformat_minor": 0,
  "metadata": {
    "colab": {
      "provenance": [],
      "gpuType": "T4",
      "authorship_tag": "ABX9TyMDH8hQlep6f6kBACaO2SuB",
      "include_colab_link": true
    },
    "kernelspec": {
      "name": "python3",
      "display_name": "Python 3"
    },
    "language_info": {
      "name": "python"
    },
    "accelerator": "GPU"
  },
  "cells": [
    {
      "cell_type": "markdown",
      "metadata": {
        "id": "view-in-github",
        "colab_type": "text"
      },
      "source": [
        "<a href=\"https://colab.research.google.com/github/hsabaghpour/pytorch-training-playground/blob/main/Tensors_with_PyTorch_ipynb.ipynb\" target=\"_parent\"><img src=\"https://colab.research.google.com/assets/colab-badge.svg\" alt=\"Open In Colab\"/></a>"
      ]
    },
    {
      "cell_type": "markdown",
      "source": [
        "\n",
        "##**TENSORS**\n",
        "\n",
        "Alright, let's spice it up with some tech talk:\n",
        "\n",
        "Imagine **tensors** are the **superheroes** of the math world. You've got:\n",
        "\n",
        "**Scalars**: The lone wolves. They're just single numbers, like the quiet guy at a party (**0-dimensional**).\n",
        "\n",
        "**Vectors**: Think of these as your party guests lined up in a row, all in one dimension, having a chat (**1-dimensional**).\n",
        "\n",
        "**Matrices**: Now it's a dinner party! You've got rows and columns of guests interacting with each other (**2-dimensional**).\n",
        "\n",
        "**Higher-dimensional Tensors**: This is where things get wild. Picture a massive festival with layers upon layers of interactions (**3D, 4D, and beyond**).\n",
        "\n",
        "In the realm of **deep learning**, tensors are the cool, flexible friends who can shape-shift into different forms and dimensions, making them the perfect data handlers. Whether it's processing images, text, or any other data, these guys are the real MVPs, powering your favorite AI and machine learning models.\n",
        "\n",
        "And guess what? They often leverage hardware acceleration like **GPUs** for efficient computation, making them super fast and efficient!\n",
        "\n",
        "So next time you hear **\"tensors**,\" just think of them as the versatile, multi-talented party planners of the data world, making sure everything runs smoothly and efficiently, often with a little help from their speedy **GPU** buddies!\n"
      ],
      "metadata": {
        "id": "3ATq8xJKA9Dh"
      }
    },
    {
      "cell_type": "code",
      "source": [
        "#!pip install torch"
      ],
      "metadata": {
        "id": "mJWlhVOFCIdl"
      },
      "execution_count": 1,
      "outputs": []
    },
    {
      "cell_type": "markdown",
      "source": [
        "\n",
        "In **PyTorch**, **tensors** (represented as **torch.Tensor**) are the fundamental data structures, much like arrays in NumPy but with added capabilities.\n",
        "\n",
        "The default dtype for a tensor in PyTorch is **float32**, which is optimized for deep learning tasks.\n",
        "\n",
        "Unlike NumPy arrays, torch.**Tensor** is more suitable for **deep learning** because it supports:\n",
        "\n",
        "##GPU acceleration\n",
        "##Automatic differentiation\n",
        "##Dynamic computation graphs\n",
        "These features make torch.Tensor ideal for creating and training complex neural networks efficiently."
      ],
      "metadata": {
        "id": "ZW-EeX-OMWaj"
      }
    },
    {
      "cell_type": "code",
      "execution_count": 5,
      "metadata": {
        "id": "p0qOti15A7Za"
      },
      "outputs": [],
      "source": [
        "import torch\n",
        "import numpy as np\n"
      ]
    },
    {
      "cell_type": "markdown",
      "source": [
        "#**LISTS**"
      ],
      "metadata": {
        "id": "4kXQjZvKEIKl"
      }
    },
    {
      "cell_type": "code",
      "source": [
        "my_list = [1, 2, 3,4,5,6,7,8,9,10]\n",
        "my_list"
      ],
      "metadata": {
        "colab": {
          "base_uri": "https://localhost:8080/"
        },
        "id": "46bg23lmEHEC",
        "outputId": "f997e663-f246-461b-9f32-142c6239d84b"
      },
      "execution_count": 2,
      "outputs": [
        {
          "output_type": "execute_result",
          "data": {
            "text/plain": [
              "[1, 2, 3, 4, 5, 6, 7, 8, 9, 10]"
            ]
          },
          "metadata": {},
          "execution_count": 2
        }
      ]
    },
    {
      "cell_type": "code",
      "source": [
        "my_multiDim_list = [[1,2,3],[4,5,6],[7,8,9]]\n",
        "my_multiDim_list"
      ],
      "metadata": {
        "colab": {
          "base_uri": "https://localhost:8080/"
        },
        "id": "Hir8Kq0_NlEp",
        "outputId": "f0458101-a4d9-4205-cad0-f9dd020d7ec5"
      },
      "execution_count": 3,
      "outputs": [
        {
          "output_type": "execute_result",
          "data": {
            "text/plain": [
              "[[1, 2, 3], [4, 5, 6], [7, 8, 9]]"
            ]
          },
          "metadata": {},
          "execution_count": 3
        }
      ]
    },
    {
      "cell_type": "markdown",
      "source": [
        "#**NUMPY ARRAYS**"
      ],
      "metadata": {
        "id": "nFOerDleNuUm"
      }
    },
    {
      "cell_type": "code",
      "source": [
        "np1 = np.random.randint(10, size=(3,5))\n",
        "np1"
      ],
      "metadata": {
        "colab": {
          "base_uri": "https://localhost:8080/"
        },
        "id": "Low01Fx4N0uw",
        "outputId": "8d9fa661-30ee-475f-dd85-d417d92e4e36"
      },
      "execution_count": 6,
      "outputs": [
        {
          "output_type": "execute_result",
          "data": {
            "text/plain": [
              "array([[0, 1, 9, 4, 0],\n",
              "       [8, 6, 6, 4, 6],\n",
              "       [2, 2, 8, 3, 5]])"
            ]
          },
          "metadata": {},
          "execution_count": 6
        }
      ]
    },
    {
      "cell_type": "code",
      "source": [
        "np2 = np.random.randint((my_list))\n",
        "np2"
      ],
      "metadata": {
        "colab": {
          "base_uri": "https://localhost:8080/"
        },
        "id": "05ONzTuHRgNj",
        "outputId": "d87f5fa2-d42b-45ef-c0fa-d8464b5e06b6"
      },
      "execution_count": 8,
      "outputs": [
        {
          "output_type": "execute_result",
          "data": {
            "text/plain": [
              "array([0, 1, 2, 3, 4, 3, 3, 5, 4, 0])"
            ]
          },
          "metadata": {},
          "execution_count": 8
        }
      ]
    },
    {
      "cell_type": "code",
      "source": [
        "np3 = np.random.randn(7,6)\n",
        "np3"
      ],
      "metadata": {
        "colab": {
          "base_uri": "https://localhost:8080/"
        },
        "id": "hDORiEGgRrUP",
        "outputId": "77c856e4-d0e1-436a-d08c-ef44978d03fb"
      },
      "execution_count": 12,
      "outputs": [
        {
          "output_type": "execute_result",
          "data": {
            "text/plain": [
              "array([[ 0.14976029, -1.19030914,  0.72418548, -1.07794123,  0.48389555,\n",
              "         2.72903319],\n",
              "       [-0.6985592 , -0.76605572, -0.41356989,  2.23128133,  0.15013093,\n",
              "        -0.05628684],\n",
              "       [ 0.62782601, -1.57304163,  0.42264779,  1.4993707 ,  1.05809858,\n",
              "         1.09048608],\n",
              "       [ 0.7394042 , -0.6615203 ,  0.17583951,  0.05774619,  0.44303701,\n",
              "        -1.0788828 ],\n",
              "       [ 0.87093979,  0.48478241, -0.93971362,  0.72306599, -0.56399585,\n",
              "         0.52315161],\n",
              "       [-0.02119752,  0.91570364,  1.75474384,  0.79472777,  0.39830287,\n",
              "        -0.04249707],\n",
              "       [ 2.1409115 ,  0.91361613,  1.0645192 ,  0.60463454, -0.91915698,\n",
              "         1.13589314]])"
            ]
          },
          "metadata": {},
          "execution_count": 12
        }
      ]
    },
    {
      "cell_type": "code",
      "source": [
        "np3.dtype"
      ],
      "metadata": {
        "colab": {
          "base_uri": "https://localhost:8080/"
        },
        "id": "H7xjy86BR_sr",
        "outputId": "8f3f6f01-0471-4580-dc2f-6d015aef2020"
      },
      "execution_count": 13,
      "outputs": [
        {
          "output_type": "execute_result",
          "data": {
            "text/plain": [
              "dtype('float64')"
            ]
          },
          "metadata": {},
          "execution_count": 13
        }
      ]
    },
    {
      "cell_type": "markdown",
      "source": [
        "#**TENSORS**"
      ],
      "metadata": {
        "id": "yVeNYYYCSSUo"
      }
    },
    {
      "cell_type": "code",
      "source": [
        "tensor_np1 = torch.tensor(np1)\n",
        "tensor_np1"
      ],
      "metadata": {
        "colab": {
          "base_uri": "https://localhost:8080/"
        },
        "id": "YqUDLvvISHBI",
        "outputId": "b90c5fb8-208f-49cf-d12c-d6f7dc2f7e61"
      },
      "execution_count": 18,
      "outputs": [
        {
          "output_type": "execute_result",
          "data": {
            "text/plain": [
              "tensor([[0, 1, 9, 4, 0],\n",
              "        [8, 6, 6, 4, 6],\n",
              "        [2, 2, 8, 3, 5]])"
            ]
          },
          "metadata": {},
          "execution_count": 18
        }
      ]
    },
    {
      "cell_type": "code",
      "source": [
        "tensor_2d = torch.rand(2,3)\n",
        "tensor_2d"
      ],
      "metadata": {
        "colab": {
          "base_uri": "https://localhost:8080/"
        },
        "id": "65iRe908SyCx",
        "outputId": "9ff37a27-0aa3-4ccc-a23c-cdbb4c0ac9ed"
      },
      "execution_count": 19,
      "outputs": [
        {
          "output_type": "execute_result",
          "data": {
            "text/plain": [
              "tensor([[0.1553, 0.7873, 0.9950],\n",
              "        [0.9055, 0.9989, 0.8466]])"
            ]
          },
          "metadata": {},
          "execution_count": 19
        }
      ]
    },
    {
      "cell_type": "code",
      "source": [
        "tensor_2d.dtype"
      ],
      "metadata": {
        "colab": {
          "base_uri": "https://localhost:8080/"
        },
        "id": "alz3KCghTBQe",
        "outputId": "dd6b36a2-c5e7-4900-8bb6-62d53ee6260a"
      },
      "execution_count": 20,
      "outputs": [
        {
          "output_type": "execute_result",
          "data": {
            "text/plain": [
              "torch.float32"
            ]
          },
          "metadata": {},
          "execution_count": 20
        }
      ]
    },
    {
      "cell_type": "code",
      "source": [
        "tensor_2d.shape"
      ],
      "metadata": {
        "colab": {
          "base_uri": "https://localhost:8080/"
        },
        "id": "-d3HUYc3TOjT",
        "outputId": "6100a6f6-430d-40d5-a0e2-de943590b024"
      },
      "execution_count": 21,
      "outputs": [
        {
          "output_type": "execute_result",
          "data": {
            "text/plain": [
              "torch.Size([2, 3])"
            ]
          },
          "metadata": {},
          "execution_count": 21
        }
      ]
    },
    {
      "cell_type": "code",
      "source": [
        "tensor_3d = torch.randn(8,5,7)\n",
        "tensor_3d"
      ],
      "metadata": {
        "colab": {
          "base_uri": "https://localhost:8080/"
        },
        "id": "5zdMOOX9TTQT",
        "outputId": "f0a3bd8e-bae6-4fcd-faf4-1a40a5f32339"
      },
      "execution_count": 23,
      "outputs": [
        {
          "output_type": "execute_result",
          "data": {
            "text/plain": [
              "tensor([[[ 2.0320,  0.0781,  0.2548,  0.3717, -0.1869,  0.7314,  1.1090],\n",
              "         [ 0.3400, -0.5091, -0.8763,  0.3545,  2.1160, -0.3708,  0.0237],\n",
              "         [ 1.0824,  0.8199,  1.1826,  0.9133,  0.3059,  0.6722, -1.4261],\n",
              "         [-0.2642, -0.4632, -0.0306, -0.5457,  0.2780,  0.6233, -0.3770],\n",
              "         [ 0.1527,  1.1045,  0.6702,  1.5826, -0.6074, -1.4538, -1.1860]],\n",
              "\n",
              "        [[-0.0617,  1.3029,  0.3113,  0.2367,  1.2274, -1.2939, -0.2673],\n",
              "         [ 0.1178,  0.7195, -0.6551,  0.8002, -0.5162,  1.4082,  0.8675],\n",
              "         [-0.9960, -1.2554,  0.0608,  0.1681, -2.2852,  0.3303,  0.2128],\n",
              "         [-0.6696,  0.1365,  0.6303, -0.0251, -0.9505,  0.8468, -0.4466],\n",
              "         [-2.8371,  0.9133,  1.6924, -2.6901, -0.9465, -0.0877, -0.7625]],\n",
              "\n",
              "        [[ 2.4400, -0.1996, -1.5341,  0.8123,  0.0805,  0.5517,  0.0179],\n",
              "         [ 0.8111, -1.2071,  0.3993, -0.0104, -1.8267, -0.2939,  0.9097],\n",
              "         [ 1.3172,  0.0741, -0.8640,  0.7436, -0.8535,  1.6053, -0.4358],\n",
              "         [ 1.7872,  3.1691, -0.7875, -0.2399,  1.1300, -0.1439,  0.0214],\n",
              "         [ 0.7362, -0.2831,  0.0582,  0.3530, -1.4809,  0.6752, -0.4525]],\n",
              "\n",
              "        [[ 0.3235, -1.5658,  0.6496, -0.6534,  0.5957, -0.7117,  0.7029],\n",
              "         [ 0.7375, -0.9587,  0.5668, -0.1218,  1.8964, -0.1884, -0.2371],\n",
              "         [-2.3824, -1.9486, -0.1220, -0.4391,  0.0140, -1.6048, -0.5827],\n",
              "         [ 2.3522,  0.2384, -0.5894, -0.2624,  0.7815, -0.4212, -0.3989],\n",
              "         [ 0.7882, -1.9914, -0.7050,  1.4097, -0.2772,  0.0955, -0.5924]],\n",
              "\n",
              "        [[ 1.6087,  0.1827,  0.0913, -1.3969,  0.3140,  1.5302, -0.7573],\n",
              "         [ 0.4555, -0.5288, -0.4953,  0.6526, -0.2626, -2.0853,  0.6408],\n",
              "         [-0.4642, -0.6335,  1.4120, -0.9919, -0.1966, -0.9403, -1.0194],\n",
              "         [ 0.5134,  1.7355, -0.6578, -0.5488,  1.2467,  1.0910,  0.9709],\n",
              "         [-0.0235, -0.9578, -0.7644,  1.5022, -0.6038, -1.3689, -0.4975]],\n",
              "\n",
              "        [[-0.9996, -0.0376, -0.4328,  0.3506,  1.2235,  0.5144,  0.0067],\n",
              "         [ 0.1602,  0.0424,  1.2329, -0.0893,  0.9305,  0.4512, -1.2326],\n",
              "         [-1.2023, -1.1759, -0.7465,  0.7049,  0.4415,  0.2598,  0.4995],\n",
              "         [-0.1628,  0.9358,  1.5384,  0.2242,  0.7055,  0.9124,  0.0458],\n",
              "         [-0.5037, -0.2571, -1.3065, -0.1147, -1.7541, -0.4386,  3.4211]],\n",
              "\n",
              "        [[-0.0395,  0.3566,  0.3190, -0.4632, -0.8426,  0.8369,  0.3664],\n",
              "         [-0.6072, -2.2572, -0.7323,  0.1733, -0.9929,  0.4972, -0.6711],\n",
              "         [-0.9652, -0.8008, -2.3124, -1.2094, -0.9547, -0.1228,  0.5212],\n",
              "         [ 0.5900, -1.9116, -0.0417,  0.3154,  0.5944,  1.0639,  0.4186],\n",
              "         [ 0.9480, -0.1645, -1.4027, -0.3583, -1.6504, -1.9864, -1.1094]],\n",
              "\n",
              "        [[-0.0184,  0.8189, -0.9088, -0.0996, -0.1913,  1.0282,  0.8484],\n",
              "         [-0.0698,  1.0406,  0.2493,  0.0051, -0.5178, -0.1028, -0.0960],\n",
              "         [ 1.5693, -0.4524, -0.5347,  1.3542,  1.1573, -1.2552, -1.9980],\n",
              "         [ 1.4460, -0.5478,  1.5597,  1.3699,  0.6426,  1.9833, -0.5392],\n",
              "         [-1.0262,  0.3489, -0.8981, -0.3101,  1.5418, -1.6172,  1.5568]]])"
            ]
          },
          "metadata": {},
          "execution_count": 23
        }
      ]
    },
    {
      "cell_type": "code",
      "source": [
        "tensor_z_4d = torch.zeros(3,2,4,7)\n",
        "tensor_z_4d"
      ],
      "metadata": {
        "colab": {
          "base_uri": "https://localhost:8080/"
        },
        "id": "_iP7QpvcTer2",
        "outputId": "3b468aab-ec43-48be-f9c7-5736f4fff430"
      },
      "execution_count": 28,
      "outputs": [
        {
          "output_type": "execute_result",
          "data": {
            "text/plain": [
              "tensor([[[[0., 0., 0., 0., 0., 0., 0.],\n",
              "          [0., 0., 0., 0., 0., 0., 0.],\n",
              "          [0., 0., 0., 0., 0., 0., 0.],\n",
              "          [0., 0., 0., 0., 0., 0., 0.]],\n",
              "\n",
              "         [[0., 0., 0., 0., 0., 0., 0.],\n",
              "          [0., 0., 0., 0., 0., 0., 0.],\n",
              "          [0., 0., 0., 0., 0., 0., 0.],\n",
              "          [0., 0., 0., 0., 0., 0., 0.]]],\n",
              "\n",
              "\n",
              "        [[[0., 0., 0., 0., 0., 0., 0.],\n",
              "          [0., 0., 0., 0., 0., 0., 0.],\n",
              "          [0., 0., 0., 0., 0., 0., 0.],\n",
              "          [0., 0., 0., 0., 0., 0., 0.]],\n",
              "\n",
              "         [[0., 0., 0., 0., 0., 0., 0.],\n",
              "          [0., 0., 0., 0., 0., 0., 0.],\n",
              "          [0., 0., 0., 0., 0., 0., 0.],\n",
              "          [0., 0., 0., 0., 0., 0., 0.]]],\n",
              "\n",
              "\n",
              "        [[[0., 0., 0., 0., 0., 0., 0.],\n",
              "          [0., 0., 0., 0., 0., 0., 0.],\n",
              "          [0., 0., 0., 0., 0., 0., 0.],\n",
              "          [0., 0., 0., 0., 0., 0., 0.]],\n",
              "\n",
              "         [[0., 0., 0., 0., 0., 0., 0.],\n",
              "          [0., 0., 0., 0., 0., 0., 0.],\n",
              "          [0., 0., 0., 0., 0., 0., 0.],\n",
              "          [0., 0., 0., 0., 0., 0., 0.]]]])"
            ]
          },
          "metadata": {},
          "execution_count": 28
        }
      ]
    }
  ]
}