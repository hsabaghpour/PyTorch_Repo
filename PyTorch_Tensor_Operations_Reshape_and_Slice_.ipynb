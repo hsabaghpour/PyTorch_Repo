{
  "nbformat": 4,
  "nbformat_minor": 0,
  "metadata": {
    "colab": {
      "provenance": [],
      "gpuType": "T4",
      "mount_file_id": "1MLAZVf70DjQVJwU9QM3xuorz0QKCh4Kb",
      "authorship_tag": "ABX9TyO2eSTCvkuYA8qVrz903JGJ",
      "include_colab_link": true
    },
    "kernelspec": {
      "name": "python3",
      "display_name": "Python 3"
    },
    "language_info": {
      "name": "python"
    },
    "accelerator": "GPU"
  },
  "cells": [
    {
      "cell_type": "markdown",
      "metadata": {
        "id": "view-in-github",
        "colab_type": "text"
      },
      "source": [
        "<a href=\"https://colab.research.google.com/github/hsabaghpour/pytorch-training-playground/blob/main/PyTorch_Tensor_Operations_Reshape_and_Slice_.ipynb\" target=\"_parent\"><img src=\"https://colab.research.google.com/assets/colab-badge.svg\" alt=\"Open In Colab\"/></a>"
      ]
    },
    {
      "cell_type": "code",
      "execution_count": 3,
      "metadata": {
        "id": "Oz8uQGjtpRDA"
      },
      "outputs": [],
      "source": [
        "import torch"
      ]
    },
    {
      "cell_type": "code",
      "source": [
        "my_torch = torch.arange(20)\n",
        "my_torch"
      ],
      "metadata": {
        "colab": {
          "base_uri": "https://localhost:8080/"
        },
        "id": "7sUmoYM5rCcB",
        "outputId": "06bbaa14-83c5-49b9-e55a-6e0c8c968247"
      },
      "execution_count": 4,
      "outputs": [
        {
          "output_type": "execute_result",
          "data": {
            "text/plain": [
              "tensor([ 0,  1,  2,  3,  4,  5,  6,  7,  8,  9, 10, 11, 12, 13, 14, 15, 16, 17,\n",
              "        18, 19])"
            ]
          },
          "metadata": {},
          "execution_count": 4
        }
      ]
    },
    {
      "cell_type": "code",
      "source": [
        "#reshape and vies\n",
        "my_torch = my_torch.reshape(4,5)\n",
        "my_torch"
      ],
      "metadata": {
        "colab": {
          "base_uri": "https://localhost:8080/"
        },
        "id": "IswXub49rPAs",
        "outputId": "1b901630-88fe-447e-de47-f38477e6ca73"
      },
      "execution_count": 5,
      "outputs": [
        {
          "output_type": "execute_result",
          "data": {
            "text/plain": [
              "tensor([[ 0,  1,  2,  3,  4],\n",
              "        [ 5,  6,  7,  8,  9],\n",
              "        [10, 11, 12, 13, 14],\n",
              "        [15, 16, 17, 18, 19]])"
            ]
          },
          "metadata": {},
          "execution_count": 5
        }
      ]
    },
    {
      "cell_type": "code",
      "source": [
        "#if we are not sure about size of data or data is so big and we want to reshape to either specic size of either rows or columns we use -1 for the dimension we are not so sure\n",
        "my_torch = my_torch.reshape(-1,10)\n",
        "my_torch"
      ],
      "metadata": {
        "colab": {
          "base_uri": "https://localhost:8080/"
        },
        "id": "shrzDgl_uSqp",
        "outputId": "d664062a-a565-4e4e-f6c0-281c8613a793"
      },
      "execution_count": 6,
      "outputs": [
        {
          "output_type": "execute_result",
          "data": {
            "text/plain": [
              "tensor([[ 0,  1,  2,  3,  4,  5,  6,  7,  8,  9],\n",
              "        [10, 11, 12, 13, 14, 15, 16, 17, 18, 19]])"
            ]
          },
          "metadata": {},
          "execution_count": 6
        }
      ]
    },
    {
      "cell_type": "code",
      "source": [
        "rand_torch = torch.randn(torch.randint(100000,(1,1)))\n",
        "rand_torch"
      ],
      "metadata": {
        "colab": {
          "base_uri": "https://localhost:8080/"
        },
        "id": "8HZ6czp9uxEL",
        "outputId": "e02a8651-f1fa-4fe1-f81b-bc171a7df80e"
      },
      "execution_count": 18,
      "outputs": [
        {
          "output_type": "execute_result",
          "data": {
            "text/plain": [
              "tensor([ 2.5995,  0.6725, -1.0979,  ...,  1.3605,  0.8689, -1.6300])"
            ]
          },
          "metadata": {},
          "execution_count": 18
        }
      ]
    },
    {
      "cell_type": "code",
      "source": [
        "rand_torch.reshape(2,-1)"
      ],
      "metadata": {
        "colab": {
          "base_uri": "https://localhost:8080/"
        },
        "id": "Aj9TKw3cvaQH",
        "outputId": "5682d3d7-0128-471d-f6b9-4ad162528132"
      },
      "execution_count": 20,
      "outputs": [
        {
          "output_type": "execute_result",
          "data": {
            "text/plain": [
              "tensor([[ 2.5995,  0.6725, -1.0979,  ...,  0.7099, -1.7150,  0.3557],\n",
              "        [-1.5493, -0.8792,  0.1713,  ...,  1.3605,  0.8689, -1.6300]])"
            ]
          },
          "metadata": {},
          "execution_count": 20
        }
      ]
    },
    {
      "cell_type": "code",
      "source": [
        "rand_torch.reshape(-1,2)"
      ],
      "metadata": {
        "colab": {
          "base_uri": "https://localhost:8080/"
        },
        "id": "CnjcdqW2v5MS",
        "outputId": "95dd7a18-e84e-44ab-db65-847397fd1a78"
      },
      "execution_count": 21,
      "outputs": [
        {
          "output_type": "execute_result",
          "data": {
            "text/plain": [
              "tensor([[ 2.5995,  0.6725],\n",
              "        [-1.0979, -1.5062],\n",
              "        [ 0.1821, -1.0879],\n",
              "        ...,\n",
              "        [-0.6811,  1.3772],\n",
              "        [-0.2696,  1.3605],\n",
              "        [ 0.8689, -1.6300]])"
            ]
          },
          "metadata": {},
          "execution_count": 21
        }
      ]
    },
    {
      "cell_type": "code",
      "source": [
        "#view func\n",
        "\n",
        "my_torch2 = my_torch.view(2,10)\n",
        "my_torch2"
      ],
      "metadata": {
        "colab": {
          "base_uri": "https://localhost:8080/"
        },
        "id": "aHgu-B6Ny3hC",
        "outputId": "0a9b8b48-55f6-463e-9c4d-1f364ae11c9c"
      },
      "execution_count": 22,
      "outputs": [
        {
          "output_type": "execute_result",
          "data": {
            "text/plain": [
              "tensor([[ 0,  1,  2,  3,  4,  5,  6,  7,  8,  9],\n",
              "        [10, 11, 12, 13, 14, 15, 16, 17, 18, 19]])"
            ]
          },
          "metadata": {},
          "execution_count": 22
        }
      ]
    },
    {
      "cell_type": "markdown",
      "source": [
        "#**Reshape vs View on PyTorch**\n",
        "\n",
        "##**Key Differences:**\n",
        "\n",
        "###**Memory Sharing:**\n",
        "**reshape()** tries to share memory when possible, while **view()** strictly requires contiguous memory and throws an error if the shape is incompatible.\n",
        "\n",
        "###**Flexibility**:\n",
        "**reshape()** is more flexible in terms of memory sharing, potentially saving memory by sharing data. **view()** is stricter, ensuring contiguous memory but requiring compatible shapes.\n",
        "\n",
        "Choosing between reshape() and view() depends on your specific needs regarding memory usage and shape compatibility in your PyTorch tensor operations."
      ],
      "metadata": {
        "id": "NlYEqq0yzeb5"
      }
    },
    {
      "cell_type": "code",
      "source": [],
      "metadata": {
        "id": "ht1hU1Ec0Eto"
      },
      "execution_count": null,
      "outputs": []
    }
  ]
}