{
  "nbformat": 4,
  "nbformat_minor": 0,
  "metadata": {
    "colab": {
      "provenance": [],
      "gpuType": "T4",
      "mount_file_id": "1MLAZVf70DjQVJwU9QM3xuorz0QKCh4Kb",
      "authorship_tag": "ABX9TyMNz2fWILv3Ss8t24D4HWrd",
      "include_colab_link": true
    },
    "kernelspec": {
      "name": "python3",
      "display_name": "Python 3"
    },
    "language_info": {
      "name": "python"
    },
    "accelerator": "GPU"
  },
  "cells": [
    {
      "cell_type": "markdown",
      "metadata": {
        "id": "view-in-github",
        "colab_type": "text"
      },
      "source": [
        "<a href=\"https://colab.research.google.com/github/hsabaghpour/pytorch-training-playground/blob/main/PyTorch_Tensor_Operations_Reshape_and_Slice_.ipynb\" target=\"_parent\"><img src=\"https://colab.research.google.com/assets/colab-badge.svg\" alt=\"Open In Colab\"/></a>"
      ]
    },
    {
      "cell_type": "code",
      "execution_count": 2,
      "metadata": {
        "id": "Oz8uQGjtpRDA"
      },
      "outputs": [],
      "source": [
        "import torch"
      ]
    },
    {
      "cell_type": "code",
      "source": [
        "my_torch = torch.arange(20)\n",
        "my_torch"
      ],
      "metadata": {
        "colab": {
          "base_uri": "https://localhost:8080/"
        },
        "id": "7sUmoYM5rCcB",
        "outputId": "1f9d9fd4-89f4-4716-8cbc-059d367406c4"
      },
      "execution_count": 3,
      "outputs": [
        {
          "output_type": "execute_result",
          "data": {
            "text/plain": [
              "tensor([ 0,  1,  2,  3,  4,  5,  6,  7,  8,  9, 10, 11, 12, 13, 14, 15, 16, 17,\n",
              "        18, 19])"
            ]
          },
          "metadata": {},
          "execution_count": 3
        }
      ]
    },
    {
      "cell_type": "code",
      "source": [
        "#reshape and vies\n",
        "my_torch = my_torch.reshape(4,5)\n",
        "my_torch"
      ],
      "metadata": {
        "colab": {
          "base_uri": "https://localhost:8080/"
        },
        "id": "IswXub49rPAs",
        "outputId": "bc9d62b1-b0f3-4317-dd07-39586a78b2b2"
      },
      "execution_count": 4,
      "outputs": [
        {
          "output_type": "execute_result",
          "data": {
            "text/plain": [
              "tensor([[ 0,  1,  2,  3,  4],\n",
              "        [ 5,  6,  7,  8,  9],\n",
              "        [10, 11, 12, 13, 14],\n",
              "        [15, 16, 17, 18, 19]])"
            ]
          },
          "metadata": {},
          "execution_count": 4
        }
      ]
    },
    {
      "cell_type": "code",
      "source": [
        "#if we are not sure about size of data or data is so big and we want to reshape to either specic size of either rows or columns we use -1 for the dimension we are not so sure\n",
        "my_torch = my_torch.reshape(-1,10)\n",
        "my_torch"
      ],
      "metadata": {
        "colab": {
          "base_uri": "https://localhost:8080/"
        },
        "id": "shrzDgl_uSqp",
        "outputId": "a432acd4-4f68-4886-fea6-9b23b7dc40a7"
      },
      "execution_count": 5,
      "outputs": [
        {
          "output_type": "execute_result",
          "data": {
            "text/plain": [
              "tensor([[ 0,  1,  2,  3,  4,  5,  6,  7,  8,  9],\n",
              "        [10, 11, 12, 13, 14, 15, 16, 17, 18, 19]])"
            ]
          },
          "metadata": {},
          "execution_count": 5
        }
      ]
    },
    {
      "cell_type": "code",
      "source": [
        "rand_torch = torch.randn(torch.randint(100000,(1,1)))\n",
        "rand_torch"
      ],
      "metadata": {
        "colab": {
          "base_uri": "https://localhost:8080/"
        },
        "id": "8HZ6czp9uxEL",
        "outputId": "0819fccf-28da-4651-8a2a-a2154f4af3c5"
      },
      "execution_count": 6,
      "outputs": [
        {
          "output_type": "execute_result",
          "data": {
            "text/plain": [
              "tensor([ 2.0415, -0.1487,  1.0479,  ...,  0.3011,  2.0272,  1.2136])"
            ]
          },
          "metadata": {},
          "execution_count": 6
        }
      ]
    },
    {
      "cell_type": "code",
      "source": [
        "rand_torch.reshape(2,-1)"
      ],
      "metadata": {
        "colab": {
          "base_uri": "https://localhost:8080/"
        },
        "id": "Aj9TKw3cvaQH",
        "outputId": "0202a07e-86a6-4af4-f9e4-726d99f30d46"
      },
      "execution_count": 7,
      "outputs": [
        {
          "output_type": "execute_result",
          "data": {
            "text/plain": [
              "tensor([[ 2.0415, -0.1487,  1.0479,  ..., -0.3089, -0.3693, -0.4709],\n",
              "        [-1.0881, -1.5000, -0.3959,  ...,  0.3011,  2.0272,  1.2136]])"
            ]
          },
          "metadata": {},
          "execution_count": 7
        }
      ]
    },
    {
      "cell_type": "code",
      "source": [
        "rand_torch.reshape(-1,2)"
      ],
      "metadata": {
        "colab": {
          "base_uri": "https://localhost:8080/"
        },
        "id": "CnjcdqW2v5MS",
        "outputId": "d65d82cb-6b7b-4eee-c93e-ea786ae0d6d4"
      },
      "execution_count": 8,
      "outputs": [
        {
          "output_type": "execute_result",
          "data": {
            "text/plain": [
              "tensor([[ 2.0415, -0.1487],\n",
              "        [ 1.0479,  0.8766],\n",
              "        [-0.6623,  0.0914],\n",
              "        ...,\n",
              "        [ 0.6693, -0.3626],\n",
              "        [-0.2725,  0.3011],\n",
              "        [ 2.0272,  1.2136]])"
            ]
          },
          "metadata": {},
          "execution_count": 8
        }
      ]
    },
    {
      "cell_type": "code",
      "source": [
        "#view func\n",
        "\n",
        "my_torch2 = my_torch.view(2,10)\n",
        "my_torch2"
      ],
      "metadata": {
        "colab": {
          "base_uri": "https://localhost:8080/"
        },
        "id": "aHgu-B6Ny3hC",
        "outputId": "4465641e-b3b5-4c3a-afe7-dd8023dacbb5"
      },
      "execution_count": 9,
      "outputs": [
        {
          "output_type": "execute_result",
          "data": {
            "text/plain": [
              "tensor([[ 0,  1,  2,  3,  4,  5,  6,  7,  8,  9],\n",
              "        [10, 11, 12, 13, 14, 15, 16, 17, 18, 19]])"
            ]
          },
          "metadata": {},
          "execution_count": 9
        }
      ]
    },
    {
      "cell_type": "markdown",
      "source": [
        "#**Reshape vs View on PyTorch**\n",
        "\n",
        "##**Key Differences:**\n",
        "\n",
        "###**Memory Sharing:**\n",
        "**reshape()** tries to share memory when possible, while **view()** strictly requires contiguous memory and throws an error if the shape is incompatible.\n",
        "\n",
        "###**Flexibility**:\n",
        "**reshape()** is more flexible in terms of memory sharing, potentially saving memory by sharing data. **view()** is stricter, ensuring contiguous memory but requiring compatible shapes.\n",
        "\n",
        "Choosing between reshape() and view() depends on your specific needs regarding memory usage and shape compatibility in your PyTorch tensor operations.\n",
        "\n",
        "https://stackoverflow.com/questions/49643225/whats-the-difference-between-reshape-and-view-in-pytorch\n",
        "\n",
        "**Note** : any chnage in orginal tensor will get uodated on reshape() and view() as well"
      ],
      "metadata": {
        "id": "NlYEqq0yzeb5"
      }
    },
    {
      "cell_type": "code",
      "source": [
        "my_torch6 = torch.arange(30)\n",
        "my_torch6"
      ],
      "metadata": {
        "colab": {
          "base_uri": "https://localhost:8080/"
        },
        "id": "ht1hU1Ec0Eto",
        "outputId": "0e5ab5cc-e388-4d25-aae3-4bb46a8850f2"
      },
      "execution_count": 14,
      "outputs": [
        {
          "output_type": "execute_result",
          "data": {
            "text/plain": [
              "tensor([ 0,  1,  2,  3,  4,  5,  6,  7,  8,  9, 10, 11, 12, 13, 14, 15, 16, 17,\n",
              "        18, 19, 20, 21, 22, 23, 24, 25, 26, 27, 28, 29])"
            ]
          },
          "metadata": {},
          "execution_count": 14
        }
      ]
    },
    {
      "cell_type": "code",
      "source": [
        "my_torch7 = my_torch6.reshape(-1,6)\n",
        "my_torch7"
      ],
      "metadata": {
        "colab": {
          "base_uri": "https://localhost:8080/"
        },
        "id": "5ONre32EXPVt",
        "outputId": "ce251c7b-48a2-4f65-fef1-605f078749ef"
      },
      "execution_count": 15,
      "outputs": [
        {
          "output_type": "execute_result",
          "data": {
            "text/plain": [
              "tensor([[ 0,  1,  2,  3,  4,  5],\n",
              "        [ 6,  7,  8,  9, 10, 11],\n",
              "        [12, 13, 14, 15, 16, 17],\n",
              "        [18, 19, 20, 21, 22, 23],\n",
              "        [24, 25, 26, 27, 28, 29]])"
            ]
          },
          "metadata": {},
          "execution_count": 15
        }
      ]
    },
    {
      "cell_type": "code",
      "source": [
        "my_torch6[5] = 5883\n",
        "my_torch6\n"
      ],
      "metadata": {
        "colab": {
          "base_uri": "https://localhost:8080/"
        },
        "id": "QtYS_aeyW_Hb",
        "outputId": "3d5f72d0-3f7d-42e8-b650-0d4081763f2d"
      },
      "execution_count": 16,
      "outputs": [
        {
          "output_type": "execute_result",
          "data": {
            "text/plain": [
              "tensor([   0,    1,    2,    3,    4, 5883,    6,    7,    8,    9,   10,   11,\n",
              "          12,   13,   14,   15,   16,   17,   18,   19,   20,   21,   22,   23,\n",
              "          24,   25,   26,   27,   28,   29])"
            ]
          },
          "metadata": {},
          "execution_count": 16
        }
      ]
    },
    {
      "cell_type": "code",
      "source": [
        "my_torch7"
      ],
      "metadata": {
        "colab": {
          "base_uri": "https://localhost:8080/"
        },
        "id": "5GwCYxOzXVle",
        "outputId": "0fcc64cd-23c4-4190-f10a-b88f7c7551ba"
      },
      "execution_count": 17,
      "outputs": [
        {
          "output_type": "execute_result",
          "data": {
            "text/plain": [
              "tensor([[   0,    1,    2,    3,    4, 5883],\n",
              "        [   6,    7,    8,    9,   10,   11],\n",
              "        [  12,   13,   14,   15,   16,   17],\n",
              "        [  18,   19,   20,   21,   22,   23],\n",
              "        [  24,   25,   26,   27,   28,   29]])"
            ]
          },
          "metadata": {},
          "execution_count": 17
        }
      ]
    },
    {
      "cell_type": "markdown",
      "source": [
        "#**SLICING**"
      ],
      "metadata": {
        "id": "lUR_pbkNXacv"
      }
    },
    {
      "cell_type": "code",
      "source": [
        "my_torch7[1:3,2:4]"
      ],
      "metadata": {
        "colab": {
          "base_uri": "https://localhost:8080/"
        },
        "id": "wnGyYtkeXdQU",
        "outputId": "a0934c0d-2db4-4134-a0c0-3a91ad757f27"
      },
      "execution_count": 20,
      "outputs": [
        {
          "output_type": "execute_result",
          "data": {
            "text/plain": [
              "tensor([[ 8,  9],\n",
              "        [14, 15]])"
            ]
          },
          "metadata": {},
          "execution_count": 20
        }
      ]
    },
    {
      "cell_type": "code",
      "source": [
        "my_torch7[:,1]"
      ],
      "metadata": {
        "colab": {
          "base_uri": "https://localhost:8080/"
        },
        "id": "ce4zYIdzYBaO",
        "outputId": "ff911010-b241-47b7-a4c0-037efe44b074"
      },
      "execution_count": 21,
      "outputs": [
        {
          "output_type": "execute_result",
          "data": {
            "text/plain": [
              "tensor([ 1,  7, 13, 19, 25])"
            ]
          },
          "metadata": {},
          "execution_count": 21
        }
      ]
    },
    {
      "cell_type": "code",
      "source": [
        "my_torch7[:,-1]"
      ],
      "metadata": {
        "colab": {
          "base_uri": "https://localhost:8080/"
        },
        "id": "Yc0mQqYPYKs8",
        "outputId": "7597e300-d7f5-4745-c6a1-852a38428c66"
      },
      "execution_count": 22,
      "outputs": [
        {
          "output_type": "execute_result",
          "data": {
            "text/plain": [
              "tensor([5883,   11,   17,   23,   29])"
            ]
          },
          "metadata": {},
          "execution_count": 22
        }
      ]
    },
    {
      "cell_type": "code",
      "source": [
        "my_torch7[:]"
      ],
      "metadata": {
        "colab": {
          "base_uri": "https://localhost:8080/"
        },
        "id": "Ps2AAINNYRlD",
        "outputId": "2a7fb99e-ec7f-48f3-e72e-08577e0d8ab3"
      },
      "execution_count": 23,
      "outputs": [
        {
          "output_type": "execute_result",
          "data": {
            "text/plain": [
              "tensor([[   0,    1,    2,    3,    4, 5883],\n",
              "        [   6,    7,    8,    9,   10,   11],\n",
              "        [  12,   13,   14,   15,   16,   17],\n",
              "        [  18,   19,   20,   21,   22,   23],\n",
              "        [  24,   25,   26,   27,   28,   29]])"
            ]
          },
          "metadata": {},
          "execution_count": 23
        }
      ]
    },
    {
      "cell_type": "code",
      "source": [
        "my_torch7[::2]"
      ],
      "metadata": {
        "colab": {
          "base_uri": "https://localhost:8080/"
        },
        "id": "6qujPPETYV8v",
        "outputId": "bfd86e21-374e-4f52-f38b-7cf9426b096f"
      },
      "execution_count": 24,
      "outputs": [
        {
          "output_type": "execute_result",
          "data": {
            "text/plain": [
              "tensor([[   0,    1,    2,    3,    4, 5883],\n",
              "        [  12,   13,   14,   15,   16,   17],\n",
              "        [  24,   25,   26,   27,   28,   29]])"
            ]
          },
          "metadata": {},
          "execution_count": 24
        }
      ]
    },
    {
      "cell_type": "code",
      "source": [
        "my_torch7[::2,::2]"
      ],
      "metadata": {
        "colab": {
          "base_uri": "https://localhost:8080/"
        },
        "id": "F4SeNk93YZU3",
        "outputId": "95f584e7-fd79-4f55-c460-32514a58efd5"
      },
      "execution_count": 25,
      "outputs": [
        {
          "output_type": "execute_result",
          "data": {
            "text/plain": [
              "tensor([[ 0,  2,  4],\n",
              "        [12, 14, 16],\n",
              "        [24, 26, 28]])"
            ]
          },
          "metadata": {},
          "execution_count": 25
        }
      ]
    },
    {
      "cell_type": "code",
      "source": [
        "my_torch7[:2:]"
      ],
      "metadata": {
        "colab": {
          "base_uri": "https://localhost:8080/"
        },
        "id": "QVl6_kLzYb6x",
        "outputId": "b3e42753-1d96-41c8-ab6f-f2d63cc7c94a"
      },
      "execution_count": 26,
      "outputs": [
        {
          "output_type": "execute_result",
          "data": {
            "text/plain": [
              "tensor([[   0,    1,    2,    3,    4, 5883],\n",
              "        [   6,    7,    8,    9,   10,   11]])"
            ]
          },
          "metadata": {},
          "execution_count": 26
        }
      ]
    },
    {
      "cell_type": "code",
      "source": [
        "my_torch7[3::]"
      ],
      "metadata": {
        "colab": {
          "base_uri": "https://localhost:8080/"
        },
        "id": "MXX30OwJYjO_",
        "outputId": "2eeea1d5-3c21-41a0-8fc5-9ec1478882bd"
      },
      "execution_count": 28,
      "outputs": [
        {
          "output_type": "execute_result",
          "data": {
            "text/plain": [
              "tensor([[18, 19, 20, 21, 22, 23],\n",
              "        [24, 25, 26, 27, 28, 29]])"
            ]
          },
          "metadata": {},
          "execution_count": 28
        }
      ]
    }
  ]
}